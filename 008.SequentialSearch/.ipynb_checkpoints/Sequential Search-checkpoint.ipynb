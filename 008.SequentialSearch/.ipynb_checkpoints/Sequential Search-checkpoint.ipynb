{
 "cells": [
  {
   "cell_type": "code",
   "execution_count": 1,
   "metadata": {
    "collapsed": true
   },
   "outputs": [],
   "source": [
    "# 리스트에서 특정 숫자의 위치 찾기\n",
    "# Input : 리스트 a, 찾는 값 : x\n",
    "# Output : 찾으면 그 값의 위치, 찾지 못하면 -1"
   ]
  },
  {
   "cell_type": "code",
   "execution_count": 2,
   "metadata": {
    "collapsed": true
   },
   "outputs": [],
   "source": [
    "def search_list(a, x):\n",
    "    n = len(a) # 입력 크기 n\n",
    "    for i in range(0, n): # 리스트 a의 모든 값을 차례로\n",
    "        if x == a[i]: # x 값과 비교하여\n",
    "            return i # 같으면 위치를 돌려줌\n",
    "    return -1 # 끝까지 비교해도 없으면 -1을 돌려줌"
   ]
  },
  {
   "cell_type": "code",
   "execution_count": null,
   "metadata": {
    "collapsed": true
   },
   "outputs": [],
   "source": []
  }
 ],
 "metadata": {
  "anaconda-cloud": {},
  "kernelspec": {
   "display_name": "Python [conda root]",
   "language": "python",
   "name": "conda-root-py"
  },
  "language_info": {
   "codemirror_mode": {
    "name": "ipython",
    "version": 3
   },
   "file_extension": ".py",
   "mimetype": "text/x-python",
   "name": "python",
   "nbconvert_exporter": "python",
   "pygments_lexer": "ipython3",
   "version": "3.5.2"
  }
 },
 "nbformat": 4,
 "nbformat_minor": 1
}
