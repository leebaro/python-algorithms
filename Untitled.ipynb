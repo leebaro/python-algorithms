{
 "cells": [
  {
   "cell_type": "code",
   "execution_count": null,
   "metadata": {
    "collapsed": true
   },
   "outputs": [],
   "source": [
    "import math\n",
    " \n",
    "def getPrime(number):\n",
    "    primeList = [2] #소수 리스트 생성\n",
    "    num = 3 #3부터 소수인지 검사한다\n",
    "    while (num <= number): \n",
    "        for x in primeList:\n",
    "            if(num % x == 0): #소수로 나누었을 때 나누어지면 소수아님\n",
    "                break\n",
    "            elif(x == primeList[-1]): #소수리스트의 끝원소로도 나누어지지 않으면 소수\n",
    "                primeList.append(num) #구한 소수를 소수리스트에 추가\n",
    "                break\n",
    "        num += 1\n",
    "    \n",
    "    if(number in primeList): #number가 소수리스트에 존재하면 소수인 것이므로\n",
    "        print(number)"
   ]
  },
  {
   "cell_type": "code",
   "execution_count": 19,
   "metadata": {
    "collapsed": false
   },
   "outputs": [],
   "source": [
    "getPrime(8)"
   ]
  },
  {
   "cell_type": "code",
   "execution_count": 5,
   "metadata": {
    "collapsed": true
   },
   "outputs": [],
   "source": [
    "getPrime(12)"
   ]
  },
  {
   "cell_type": "code",
   "execution_count": 15,
   "metadata": {
    "collapsed": true
   },
   "outputs": [],
   "source": [
    "primeList = [2]"
   ]
  },
  {
   "cell_type": "code",
   "execution_count": 16,
   "metadata": {
    "collapsed": false
   },
   "outputs": [
    {
     "data": {
      "text/plain": [
       "2"
      ]
     },
     "execution_count": 16,
     "metadata": {},
     "output_type": "execute_result"
    }
   ],
   "source": [
    "primeList[-1]"
   ]
  },
  {
   "cell_type": "code",
   "execution_count": null,
   "metadata": {
    "collapsed": true
   },
   "outputs": [],
   "source": []
  }
 ],
 "metadata": {
  "anaconda-cloud": {},
  "kernelspec": {
   "display_name": "Python [conda root]",
   "language": "python",
   "name": "conda-root-py"
  }
 },
 "nbformat": 4,
 "nbformat_minor": 1
}
