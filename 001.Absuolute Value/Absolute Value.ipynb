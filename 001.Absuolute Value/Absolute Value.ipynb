{
 "cells": [
  {
   "cell_type": "code",
   "execution_count": 6,
   "metadata": {
    "collapsed": false
   },
   "outputs": [
    {
     "name": "stdout",
     "output_type": "stream",
     "text": [
      "3\n",
      "3\n",
      "\n",
      "\n",
      "3\n",
      "3\n"
     ]
    }
   ],
   "source": [
    "import math\n",
    "\n",
    "# 첫 번째 절대값 알고리즘\n",
    "def abs_sign(num):\n",
    "    if num >= 0:\n",
    "        return num\n",
    "    else:\n",
    "        return -num\n",
    "    \n",
    "# 두 번째 절대값 알고리즘\n",
    "def abs_square(num):\n",
    "    result = num * num\n",
    "    return int(math.sqrt(result)) # 소수점 출력 방지를 위해 정수로 형변환\n",
    "\n",
    "print(abs_sign(3))\n",
    "print(abs_sign(-3))\n",
    "print(\"\\n\")\n",
    "print(abs_square(3))\n",
    "print(abs_square(-3))"
   ]
  }
 ],
 "metadata": {
  "anaconda-cloud": {},
  "kernelspec": {
   "display_name": "Python [conda root]",
   "language": "python",
   "name": "conda-root-py"
  },
  "language_info": {
   "codemirror_mode": {
    "name": "ipython",
    "version": 3
   },
   "file_extension": ".py",
   "mimetype": "text/x-python",
   "name": "python",
   "nbconvert_exporter": "python",
   "pygments_lexer": "ipython3",
   "version": "3.5.2"
  }
 },
 "nbformat": 4,
 "nbformat_minor": 1
}
