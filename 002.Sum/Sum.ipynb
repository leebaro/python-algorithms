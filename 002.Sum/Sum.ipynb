{
 "cells": [
  {
   "cell_type": "code",
   "execution_count": 5,
   "metadata": {
    "collapsed": false
   },
   "outputs": [
    {
     "name": "stdout",
     "output_type": "stream",
     "text": [
      "1부터 10까지 합계\n",
      "55\n",
      "\n",
      "\n",
      "1부터 100까지 합계\n",
      "5050\n"
     ]
    }
   ],
   "source": [
    "# 1부터 10까지 숫자를 합하는 첫 번째 알고리즘\n",
    "\n",
    "def sum_num(num):\n",
    "    total_num = 0\n",
    "    for i in range(1, num+1):\n",
    "        total_num += i\n",
    "    return total_num\n",
    "\n",
    "print(\"1부터 10까지 합계\")\n",
    "print(sum_num(10))\n",
    "print(\"\\n\")\n",
    "print(\"1부터 100까지 합계\")\n",
    "print(sum_num(100))"
   ]
  },
  {
   "cell_type": "code",
   "execution_count": 7,
   "metadata": {
    "collapsed": false
   },
   "outputs": [
    {
     "name": "stdout",
     "output_type": "stream",
     "text": [
      "1부터 10까지 합계\n",
      "55.0\n",
      "\n",
      "\n",
      "1부터 100까지 합계\n",
      "5050.0\n"
     ]
    }
   ],
   "source": [
    "# 1부터 10까지 숫자를 합하는 두 번째 알고리즘\n",
    "# 이 방법이 성능적으로 효과적이다.\n",
    "def sum_num(num):\n",
    "    return num * (num + 1) / 2\n",
    "\n",
    "print(\"1부터 10까지 합계\")\n",
    "print(sum_num(10))\n",
    "print(\"\\n\")\n",
    "print(\"1부터 100까지 합계\")\n",
    "print(sum_num(100))"
   ]
  },
  {
   "cell_type": "code",
   "execution_count": 14,
   "metadata": {
    "collapsed": false
   },
   "outputs": [
    {
     "name": "stdout",
     "output_type": "stream",
     "text": [
      "385\n"
     ]
    }
   ],
   "source": [
    "# 1부터 n까지의 숫자를 제곱의 합을 구하시오\n",
    "\n",
    "def sum_num1(num):\n",
    "    total_sum = 0\n",
    "    for i in range(0,num+1):\n",
    "        total_sum = total_sum + (i * i)\n",
    "    return total_sum\n",
    "\n",
    "print(sum_num1(10))\n",
    "    "
   ]
  },
  {
   "cell_type": "markdown",
   "metadata": {},
   "source": [
    "# 1부터 n까지의 숫자를 제곱의 합으로 구하는 2번째 방법\n",
    "y = n(n+1)(2n+1) / 6"
   ]
  },
  {
   "cell_type": "code",
   "execution_count": 16,
   "metadata": {
    "collapsed": false
   },
   "outputs": [
    {
     "name": "stdout",
     "output_type": "stream",
     "text": [
      "385.0\n"
     ]
    }
   ],
   "source": [
    "def sum_num2(num):\n",
    "    return num*(num +1)*((2*num)+1) / 6\n",
    "\n",
    "print(sum_num2(10))"
   ]
  }
 ],
 "metadata": {
  "anaconda-cloud": {},
  "kernelspec": {
   "display_name": "Python [conda root]",
   "language": "python",
   "name": "conda-root-py"
  },
  "language_info": {
   "codemirror_mode": {
    "name": "ipython",
    "version": 3
   },
   "file_extension": ".py",
   "mimetype": "text/x-python",
   "name": "python",
   "nbconvert_exporter": "python",
   "pygments_lexer": "ipython3",
   "version": "3.5.2"
  }
 },
 "nbformat": 4,
 "nbformat_minor": 1
}
