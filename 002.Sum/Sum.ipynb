{
 "cells": [
  {
   "cell_type": "code",
   "execution_count": 5,
   "metadata": {
    "collapsed": false
   },
   "outputs": [
    {
     "name": "stdout",
     "output_type": "stream",
     "text": [
      "1부터 10까지 합계\n",
      "55\n",
      "\n",
      "\n",
      "1부터 100까지 합계\n",
      "5050\n"
     ]
    }
   ],
   "source": [
    "# 1부터 10까지 숫자를 합하는 첫 번째 알고리즘\n",
    "\n",
    "def sum_num(num):\n",
    "    total_num = 0\n",
    "    for i in range(1, num+1):\n",
    "        total_num += i\n",
    "    return total_num\n",
    "\n",
    "print(\"1부터 10까지 합계\")\n",
    "print(sum_num(10))\n",
    "print(\"\\n\")\n",
    "print(\"1부터 100까지 합계\")\n",
    "print(sum_num(100))"
   ]
  },
  {
   "cell_type": "code",
   "execution_count": 6,
   "metadata": {
    "collapsed": false
   },
   "outputs": [
    {
     "name": "stdout",
     "output_type": "stream",
     "text": [
      "1부터 10까지 합계\n",
      "55.0\n",
      "\n",
      "\n",
      "1부터 100까지 합계\n",
      "5050.0\n"
     ]
    }
   ],
   "source": [
    "# 1부터 10까지 숫자를 합하는 두 번째 알고리즘\n",
    "# 이 방법이 성능적으로 효과적이다.\n",
    "def sum_num(num):\n",
    "    return num * (num + 1) / 2\n",
    "\n",
    "print(\"1부터 10까지 합계\")\n",
    "print(sum_num(10))\n",
    "print(\"\\n\")\n",
    "print(\"1부터 100까지 합계\")\n",
    "print(sum_num(100))"
   ]
  }
 ],
 "metadata": {
  "anaconda-cloud": {},
  "kernelspec": {
   "display_name": "Python [conda root]",
   "language": "python",
   "name": "conda-root-py"
  },
  "language_info": {
   "codemirror_mode": {
    "name": "ipython",
    "version": 3
   },
   "file_extension": ".py",
   "mimetype": "text/x-python",
   "name": "python",
   "nbconvert_exporter": "python",
   "pygments_lexer": "ipython3",
   "version": "3.5.2"
  }
 },
 "nbformat": 4,
 "nbformat_minor": 1
}
